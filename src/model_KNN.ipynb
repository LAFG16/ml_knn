{
    "cells": [
        {
            "cell_type": "markdown",
            "metadata": {},
            "source": [
                "# KNN"
            ]
        },
        {
            "cell_type": "markdown",
            "metadata": {},
            "source": [
                "## Import Libraries"
            ]
        },
        {
            "cell_type": "code",
            "execution_count": 62,
            "metadata": {},
            "outputs": [],
            "source": [
                "import pandas as pd\n",
                "import numpy as np\n",
                "from sklearn.model_selection import train_test_split, ParameterGrid\n",
                "from sklearn.feature_extraction.text import CountVectorizer, TfidfVectorizer\n",
                "from sklearn.neighbors import KNeighborsClassifier, KNeighborsRegressor, NearestNeighbors\n",
                "from sklearn.metrics import accuracy_score, confusion_matrix\n",
                "from sklearn.metrics.pairwise import cosine_similarity\n",
                "from pickle import dump\n",
                "import matplotlib.pyplot as plt\n",
                "import seaborn as sns\n",
                "import os\n",
                "from sqlalchemy import create_engine\n",
                "import pandas as pd\n",
                "import json\n",
                "import sqlite3"
            ]
        },
        {
            "cell_type": "markdown",
            "metadata": {},
            "source": [
                "## Import Data"
            ]
        },
        {
            "cell_type": "code",
            "execution_count": 63,
            "metadata": {},
            "outputs": [],
            "source": [
                "tmdb_5000_movies = pd.read_csv(\"https://raw.githubusercontent.com/4GeeksAcademy/k-nearest-neighbors-project-tutorial/main/tmdb_5000_movies.csv\")\n",
                "\n",
                "tmdb_5000_credits = pd.read_csv(\"https://raw.githubusercontent.com/4GeeksAcademy/k-nearest-neighbors-project-tutorial/main/tmdb_5000_credits.csv\")"
            ]
        },
        {
            "cell_type": "code",
            "execution_count": 64,
            "metadata": {},
            "outputs": [
                {
                    "data": {
                        "text/html": [
                            "<div>\n",
                            "<style scoped>\n",
                            "    .dataframe tbody tr th:only-of-type {\n",
                            "        vertical-align: middle;\n",
                            "    }\n",
                            "\n",
                            "    .dataframe tbody tr th {\n",
                            "        vertical-align: top;\n",
                            "    }\n",
                            "\n",
                            "    .dataframe thead th {\n",
                            "        text-align: right;\n",
                            "    }\n",
                            "</style>\n",
                            "<table border=\"1\" class=\"dataframe\">\n",
                            "  <thead>\n",
                            "    <tr style=\"text-align: right;\">\n",
                            "      <th></th>\n",
                            "      <th>budget</th>\n",
                            "      <th>genres</th>\n",
                            "      <th>homepage</th>\n",
                            "      <th>id</th>\n",
                            "      <th>keywords</th>\n",
                            "      <th>original_language</th>\n",
                            "      <th>original_title</th>\n",
                            "      <th>overview</th>\n",
                            "      <th>popularity</th>\n",
                            "      <th>production_companies</th>\n",
                            "      <th>production_countries</th>\n",
                            "      <th>release_date</th>\n",
                            "      <th>revenue</th>\n",
                            "      <th>runtime</th>\n",
                            "      <th>spoken_languages</th>\n",
                            "      <th>status</th>\n",
                            "      <th>tagline</th>\n",
                            "      <th>title</th>\n",
                            "      <th>vote_average</th>\n",
                            "      <th>vote_count</th>\n",
                            "    </tr>\n",
                            "  </thead>\n",
                            "  <tbody>\n",
                            "    <tr>\n",
                            "      <th>0</th>\n",
                            "      <td>237000000</td>\n",
                            "      <td>[{\"id\": 28, \"name\": \"Action\"}, {\"id\": 12, \"nam...</td>\n",
                            "      <td>http://www.avatarmovie.com/</td>\n",
                            "      <td>19995</td>\n",
                            "      <td>[{\"id\": 1463, \"name\": \"culture clash\"}, {\"id\":...</td>\n",
                            "      <td>en</td>\n",
                            "      <td>Avatar</td>\n",
                            "      <td>In the 22nd century, a paraplegic Marine is di...</td>\n",
                            "      <td>150.437577</td>\n",
                            "      <td>[{\"name\": \"Ingenious Film Partners\", \"id\": 289...</td>\n",
                            "      <td>[{\"iso_3166_1\": \"US\", \"name\": \"United States o...</td>\n",
                            "      <td>2009-12-10</td>\n",
                            "      <td>2787965087</td>\n",
                            "      <td>162.0</td>\n",
                            "      <td>[{\"iso_639_1\": \"en\", \"name\": \"English\"}, {\"iso...</td>\n",
                            "      <td>Released</td>\n",
                            "      <td>Enter the World of Pandora.</td>\n",
                            "      <td>Avatar</td>\n",
                            "      <td>7.2</td>\n",
                            "      <td>11800</td>\n",
                            "    </tr>\n",
                            "    <tr>\n",
                            "      <th>1</th>\n",
                            "      <td>300000000</td>\n",
                            "      <td>[{\"id\": 12, \"name\": \"Adventure\"}, {\"id\": 14, \"...</td>\n",
                            "      <td>http://disney.go.com/disneypictures/pirates/</td>\n",
                            "      <td>285</td>\n",
                            "      <td>[{\"id\": 270, \"name\": \"ocean\"}, {\"id\": 726, \"na...</td>\n",
                            "      <td>en</td>\n",
                            "      <td>Pirates of the Caribbean: At World's End</td>\n",
                            "      <td>Captain Barbossa, long believed to be dead, ha...</td>\n",
                            "      <td>139.082615</td>\n",
                            "      <td>[{\"name\": \"Walt Disney Pictures\", \"id\": 2}, {\"...</td>\n",
                            "      <td>[{\"iso_3166_1\": \"US\", \"name\": \"United States o...</td>\n",
                            "      <td>2007-05-19</td>\n",
                            "      <td>961000000</td>\n",
                            "      <td>169.0</td>\n",
                            "      <td>[{\"iso_639_1\": \"en\", \"name\": \"English\"}]</td>\n",
                            "      <td>Released</td>\n",
                            "      <td>At the end of the world, the adventure begins.</td>\n",
                            "      <td>Pirates of the Caribbean: At World's End</td>\n",
                            "      <td>6.9</td>\n",
                            "      <td>4500</td>\n",
                            "    </tr>\n",
                            "  </tbody>\n",
                            "</table>\n",
                            "</div>"
                        ],
                        "text/plain": [
                            "      budget                                             genres  \\\n",
                            "0  237000000  [{\"id\": 28, \"name\": \"Action\"}, {\"id\": 12, \"nam...   \n",
                            "1  300000000  [{\"id\": 12, \"name\": \"Adventure\"}, {\"id\": 14, \"...   \n",
                            "\n",
                            "                                       homepage     id  \\\n",
                            "0                   http://www.avatarmovie.com/  19995   \n",
                            "1  http://disney.go.com/disneypictures/pirates/    285   \n",
                            "\n",
                            "                                            keywords original_language  \\\n",
                            "0  [{\"id\": 1463, \"name\": \"culture clash\"}, {\"id\":...                en   \n",
                            "1  [{\"id\": 270, \"name\": \"ocean\"}, {\"id\": 726, \"na...                en   \n",
                            "\n",
                            "                             original_title  \\\n",
                            "0                                    Avatar   \n",
                            "1  Pirates of the Caribbean: At World's End   \n",
                            "\n",
                            "                                            overview  popularity  \\\n",
                            "0  In the 22nd century, a paraplegic Marine is di...  150.437577   \n",
                            "1  Captain Barbossa, long believed to be dead, ha...  139.082615   \n",
                            "\n",
                            "                                production_companies  \\\n",
                            "0  [{\"name\": \"Ingenious Film Partners\", \"id\": 289...   \n",
                            "1  [{\"name\": \"Walt Disney Pictures\", \"id\": 2}, {\"...   \n",
                            "\n",
                            "                                production_countries release_date     revenue  \\\n",
                            "0  [{\"iso_3166_1\": \"US\", \"name\": \"United States o...   2009-12-10  2787965087   \n",
                            "1  [{\"iso_3166_1\": \"US\", \"name\": \"United States o...   2007-05-19   961000000   \n",
                            "\n",
                            "   runtime                                   spoken_languages    status  \\\n",
                            "0    162.0  [{\"iso_639_1\": \"en\", \"name\": \"English\"}, {\"iso...  Released   \n",
                            "1    169.0           [{\"iso_639_1\": \"en\", \"name\": \"English\"}]  Released   \n",
                            "\n",
                            "                                          tagline  \\\n",
                            "0                     Enter the World of Pandora.   \n",
                            "1  At the end of the world, the adventure begins.   \n",
                            "\n",
                            "                                      title  vote_average  vote_count  \n",
                            "0                                    Avatar           7.2       11800  \n",
                            "1  Pirates of the Caribbean: At World's End           6.9        4500  "
                        ]
                    },
                    "execution_count": 64,
                    "metadata": {},
                    "output_type": "execute_result"
                }
            ],
            "source": [
                "tmdb_5000_movies.head(2)"
            ]
        },
        {
            "cell_type": "code",
            "execution_count": 65,
            "metadata": {},
            "outputs": [
                {
                    "data": {
                        "text/html": [
                            "<div>\n",
                            "<style scoped>\n",
                            "    .dataframe tbody tr th:only-of-type {\n",
                            "        vertical-align: middle;\n",
                            "    }\n",
                            "\n",
                            "    .dataframe tbody tr th {\n",
                            "        vertical-align: top;\n",
                            "    }\n",
                            "\n",
                            "    .dataframe thead th {\n",
                            "        text-align: right;\n",
                            "    }\n",
                            "</style>\n",
                            "<table border=\"1\" class=\"dataframe\">\n",
                            "  <thead>\n",
                            "    <tr style=\"text-align: right;\">\n",
                            "      <th></th>\n",
                            "      <th>movie_id</th>\n",
                            "      <th>title</th>\n",
                            "      <th>cast</th>\n",
                            "      <th>crew</th>\n",
                            "    </tr>\n",
                            "  </thead>\n",
                            "  <tbody>\n",
                            "    <tr>\n",
                            "      <th>0</th>\n",
                            "      <td>19995</td>\n",
                            "      <td>Avatar</td>\n",
                            "      <td>[{\"cast_id\": 242, \"character\": \"Jake Sully\", \"...</td>\n",
                            "      <td>[{\"credit_id\": \"52fe48009251416c750aca23\", \"de...</td>\n",
                            "    </tr>\n",
                            "    <tr>\n",
                            "      <th>1</th>\n",
                            "      <td>285</td>\n",
                            "      <td>Pirates of the Caribbean: At World's End</td>\n",
                            "      <td>[{\"cast_id\": 4, \"character\": \"Captain Jack Spa...</td>\n",
                            "      <td>[{\"credit_id\": \"52fe4232c3a36847f800b579\", \"de...</td>\n",
                            "    </tr>\n",
                            "  </tbody>\n",
                            "</table>\n",
                            "</div>"
                        ],
                        "text/plain": [
                            "   movie_id                                     title  \\\n",
                            "0     19995                                    Avatar   \n",
                            "1       285  Pirates of the Caribbean: At World's End   \n",
                            "\n",
                            "                                                cast  \\\n",
                            "0  [{\"cast_id\": 242, \"character\": \"Jake Sully\", \"...   \n",
                            "1  [{\"cast_id\": 4, \"character\": \"Captain Jack Spa...   \n",
                            "\n",
                            "                                                crew  \n",
                            "0  [{\"credit_id\": \"52fe48009251416c750aca23\", \"de...  \n",
                            "1  [{\"credit_id\": \"52fe4232c3a36847f800b579\", \"de...  "
                        ]
                    },
                    "execution_count": 65,
                    "metadata": {},
                    "output_type": "execute_result"
                }
            ],
            "source": [
                "tmdb_5000_credits.head(2)"
            ]
        },
        {
            "cell_type": "markdown",
            "metadata": {},
            "source": [
                "## Creation of a database"
            ]
        },
        {
            "cell_type": "code",
            "execution_count": 66,
            "metadata": {},
            "outputs": [
                {
                    "data": {
                        "text/plain": [
                            "4803"
                        ]
                    },
                    "execution_count": 66,
                    "metadata": {},
                    "output_type": "execute_result"
                }
            ],
            "source": [
                "con = sqlite3.connect(\"movies.db\")\n",
                "cur = con.cursor()\n",
                "\n",
                "tmdb_5000_movies.to_sql('movies', con, if_exists='replace', index=False)\n",
                "tmdb_5000_credits.to_sql('credits', con, if_exists='replace', index=False)"
            ]
        },
        {
            "cell_type": "code",
            "execution_count": 67,
            "metadata": {},
            "outputs": [],
            "source": [
                "query = pd.read_sql_query('''\n",
                "        SELECT *\n",
                "        FROM movies\n",
                "        JOIN credits ON movies.title = credits.title\n",
                "        ''', con)\n",
                "con.close()"
            ]
        },
        {
            "cell_type": "code",
            "execution_count": 68,
            "metadata": {},
            "outputs": [],
            "source": [
                "total_data = query[[\"movie_id\", \"title\", \"overview\", \"genres\", \"keywords\", \"cast\", \"crew\"]]"
            ]
        },
        {
            "cell_type": "code",
            "execution_count": 69,
            "metadata": {},
            "outputs": [
                {
                    "name": "stdout",
                    "output_type": "stream",
                    "text": [
                        "<class 'pandas.core.frame.DataFrame'>\n",
                        "RangeIndex: 4809 entries, 0 to 4808\n",
                        "Data columns (total 8 columns):\n",
                        " #   Column    Non-Null Count  Dtype \n",
                        "---  ------    --------------  ----- \n",
                        " 0   movie_id  4809 non-null   int64 \n",
                        " 1   title     4809 non-null   object\n",
                        " 2   title     4809 non-null   object\n",
                        " 3   overview  4806 non-null   object\n",
                        " 4   genres    4809 non-null   object\n",
                        " 5   keywords  4809 non-null   object\n",
                        " 6   cast      4809 non-null   object\n",
                        " 7   crew      4809 non-null   object\n",
                        "dtypes: int64(1), object(7)\n",
                        "memory usage: 300.7+ KB\n"
                    ]
                }
            ],
            "source": [
                "total_data.info()"
            ]
        },
        {
            "cell_type": "code",
            "execution_count": 70,
            "metadata": {},
            "outputs": [],
            "source": [
                "total_data = total_data.T.drop_duplicates().T"
            ]
        },
        {
            "cell_type": "code",
            "execution_count": 71,
            "metadata": {},
            "outputs": [
                {
                    "name": "stdout",
                    "output_type": "stream",
                    "text": [
                        "<class 'pandas.core.frame.DataFrame'>\n",
                        "RangeIndex: 4809 entries, 0 to 4808\n",
                        "Data columns (total 7 columns):\n",
                        " #   Column    Non-Null Count  Dtype \n",
                        "---  ------    --------------  ----- \n",
                        " 0   movie_id  4809 non-null   object\n",
                        " 1   title     4809 non-null   object\n",
                        " 2   overview  4806 non-null   object\n",
                        " 3   genres    4809 non-null   object\n",
                        " 4   keywords  4809 non-null   object\n",
                        " 5   cast      4809 non-null   object\n",
                        " 6   crew      4809 non-null   object\n",
                        "dtypes: object(7)\n",
                        "memory usage: 263.1+ KB\n"
                    ]
                }
            ],
            "source": [
                "total_data.info()"
            ]
        },
        {
            "cell_type": "code",
            "execution_count": 72,
            "metadata": {},
            "outputs": [
                {
                    "data": {
                        "text/html": [
                            "<div>\n",
                            "<style scoped>\n",
                            "    .dataframe tbody tr th:only-of-type {\n",
                            "        vertical-align: middle;\n",
                            "    }\n",
                            "\n",
                            "    .dataframe tbody tr th {\n",
                            "        vertical-align: top;\n",
                            "    }\n",
                            "\n",
                            "    .dataframe thead th {\n",
                            "        text-align: right;\n",
                            "    }\n",
                            "</style>\n",
                            "<table border=\"1\" class=\"dataframe\">\n",
                            "  <thead>\n",
                            "    <tr style=\"text-align: right;\">\n",
                            "      <th></th>\n",
                            "      <th>movie_id</th>\n",
                            "      <th>title</th>\n",
                            "      <th>overview</th>\n",
                            "      <th>genres</th>\n",
                            "      <th>keywords</th>\n",
                            "      <th>cast</th>\n",
                            "      <th>crew</th>\n",
                            "    </tr>\n",
                            "  </thead>\n",
                            "  <tbody>\n",
                            "    <tr>\n",
                            "      <th>0</th>\n",
                            "      <td>19995</td>\n",
                            "      <td>Avatar</td>\n",
                            "      <td>In the 22nd century, a paraplegic Marine is di...</td>\n",
                            "      <td>[{\"id\": 28, \"name\": \"Action\"}, {\"id\": 12, \"nam...</td>\n",
                            "      <td>[{\"id\": 1463, \"name\": \"culture clash\"}, {\"id\":...</td>\n",
                            "      <td>[{\"cast_id\": 242, \"character\": \"Jake Sully\", \"...</td>\n",
                            "      <td>[{\"credit_id\": \"52fe48009251416c750aca23\", \"de...</td>\n",
                            "    </tr>\n",
                            "    <tr>\n",
                            "      <th>1</th>\n",
                            "      <td>285</td>\n",
                            "      <td>Pirates of the Caribbean: At World's End</td>\n",
                            "      <td>Captain Barbossa, long believed to be dead, ha...</td>\n",
                            "      <td>[{\"id\": 12, \"name\": \"Adventure\"}, {\"id\": 14, \"...</td>\n",
                            "      <td>[{\"id\": 270, \"name\": \"ocean\"}, {\"id\": 726, \"na...</td>\n",
                            "      <td>[{\"cast_id\": 4, \"character\": \"Captain Jack Spa...</td>\n",
                            "      <td>[{\"credit_id\": \"52fe4232c3a36847f800b579\", \"de...</td>\n",
                            "    </tr>\n",
                            "    <tr>\n",
                            "      <th>2</th>\n",
                            "      <td>206647</td>\n",
                            "      <td>Spectre</td>\n",
                            "      <td>A cryptic message from Bond’s past sends him o...</td>\n",
                            "      <td>[{\"id\": 28, \"name\": \"Action\"}, {\"id\": 12, \"nam...</td>\n",
                            "      <td>[{\"id\": 470, \"name\": \"spy\"}, {\"id\": 818, \"name...</td>\n",
                            "      <td>[{\"cast_id\": 1, \"character\": \"James Bond\", \"cr...</td>\n",
                            "      <td>[{\"credit_id\": \"54805967c3a36829b5002c41\", \"de...</td>\n",
                            "    </tr>\n",
                            "    <tr>\n",
                            "      <th>3</th>\n",
                            "      <td>49026</td>\n",
                            "      <td>The Dark Knight Rises</td>\n",
                            "      <td>Following the death of District Attorney Harve...</td>\n",
                            "      <td>[{\"id\": 28, \"name\": \"Action\"}, {\"id\": 80, \"nam...</td>\n",
                            "      <td>[{\"id\": 849, \"name\": \"dc comics\"}, {\"id\": 853,...</td>\n",
                            "      <td>[{\"cast_id\": 2, \"character\": \"Bruce Wayne / Ba...</td>\n",
                            "      <td>[{\"credit_id\": \"52fe4781c3a36847f81398c3\", \"de...</td>\n",
                            "    </tr>\n",
                            "    <tr>\n",
                            "      <th>4</th>\n",
                            "      <td>49529</td>\n",
                            "      <td>John Carter</td>\n",
                            "      <td>John Carter is a war-weary, former military ca...</td>\n",
                            "      <td>[{\"id\": 28, \"name\": \"Action\"}, {\"id\": 12, \"nam...</td>\n",
                            "      <td>[{\"id\": 818, \"name\": \"based on novel\"}, {\"id\":...</td>\n",
                            "      <td>[{\"cast_id\": 5, \"character\": \"John Carter\", \"c...</td>\n",
                            "      <td>[{\"credit_id\": \"52fe479ac3a36847f813eaa3\", \"de...</td>\n",
                            "    </tr>\n",
                            "  </tbody>\n",
                            "</table>\n",
                            "</div>"
                        ],
                        "text/plain": [
                            "  movie_id                                     title  \\\n",
                            "0    19995                                    Avatar   \n",
                            "1      285  Pirates of the Caribbean: At World's End   \n",
                            "2   206647                                   Spectre   \n",
                            "3    49026                     The Dark Knight Rises   \n",
                            "4    49529                               John Carter   \n",
                            "\n",
                            "                                            overview  \\\n",
                            "0  In the 22nd century, a paraplegic Marine is di...   \n",
                            "1  Captain Barbossa, long believed to be dead, ha...   \n",
                            "2  A cryptic message from Bond’s past sends him o...   \n",
                            "3  Following the death of District Attorney Harve...   \n",
                            "4  John Carter is a war-weary, former military ca...   \n",
                            "\n",
                            "                                              genres  \\\n",
                            "0  [{\"id\": 28, \"name\": \"Action\"}, {\"id\": 12, \"nam...   \n",
                            "1  [{\"id\": 12, \"name\": \"Adventure\"}, {\"id\": 14, \"...   \n",
                            "2  [{\"id\": 28, \"name\": \"Action\"}, {\"id\": 12, \"nam...   \n",
                            "3  [{\"id\": 28, \"name\": \"Action\"}, {\"id\": 80, \"nam...   \n",
                            "4  [{\"id\": 28, \"name\": \"Action\"}, {\"id\": 12, \"nam...   \n",
                            "\n",
                            "                                            keywords  \\\n",
                            "0  [{\"id\": 1463, \"name\": \"culture clash\"}, {\"id\":...   \n",
                            "1  [{\"id\": 270, \"name\": \"ocean\"}, {\"id\": 726, \"na...   \n",
                            "2  [{\"id\": 470, \"name\": \"spy\"}, {\"id\": 818, \"name...   \n",
                            "3  [{\"id\": 849, \"name\": \"dc comics\"}, {\"id\": 853,...   \n",
                            "4  [{\"id\": 818, \"name\": \"based on novel\"}, {\"id\":...   \n",
                            "\n",
                            "                                                cast  \\\n",
                            "0  [{\"cast_id\": 242, \"character\": \"Jake Sully\", \"...   \n",
                            "1  [{\"cast_id\": 4, \"character\": \"Captain Jack Spa...   \n",
                            "2  [{\"cast_id\": 1, \"character\": \"James Bond\", \"cr...   \n",
                            "3  [{\"cast_id\": 2, \"character\": \"Bruce Wayne / Ba...   \n",
                            "4  [{\"cast_id\": 5, \"character\": \"John Carter\", \"c...   \n",
                            "\n",
                            "                                                crew  \n",
                            "0  [{\"credit_id\": \"52fe48009251416c750aca23\", \"de...  \n",
                            "1  [{\"credit_id\": \"52fe4232c3a36847f800b579\", \"de...  \n",
                            "2  [{\"credit_id\": \"54805967c3a36829b5002c41\", \"de...  \n",
                            "3  [{\"credit_id\": \"52fe4781c3a36847f81398c3\", \"de...  \n",
                            "4  [{\"credit_id\": \"52fe479ac3a36847f813eaa3\", \"de...  "
                        ]
                    },
                    "execution_count": 72,
                    "metadata": {},
                    "output_type": "execute_result"
                }
            ],
            "source": [
                "total_data.head()"
            ]
        },
        {
            "cell_type": "code",
            "execution_count": 73,
            "metadata": {},
            "outputs": [],
            "source": [
                "def json_value(json_str, default_value = None):\n",
                "    try:\n",
                "        return json.loads(json_str) \n",
                "    except json.JSONDecodeError:\n",
                "        return None"
            ]
        },
        {
            "cell_type": "code",
            "execution_count": 74,
            "metadata": {},
            "outputs": [],
            "source": [
                "total_data[\"genres\"] = total_data[\"genres\"].apply(lambda x: [item[\"name\"] for item in json.loads(x)] if pd.notna(x) else None)\n",
                "total_data[\"keywords\"] = total_data[\"keywords\"].apply(lambda x: [item[\"name\"] for item in json.loads(x)] if pd.notna(x) else None)\n",
                "total_data[\"cast\"] = total_data[\"cast\"].apply(lambda x: [item[\"name\"] for item in json.loads(x)[:3]] if pd.notna(x) else None)\n",
                "total_data[\"crew\"] = total_data[\"crew\"].apply(lambda x: [item[\"name\"] for item in json_value(x) if item[\"job\"] == \"Director\"] if pd.notna(x) else None)\n",
                "total_data[\"overview\"] = total_data[\"overview\"].apply(lambda x: [x])\n"
            ]
        },
        {
            "cell_type": "code",
            "execution_count": 75,
            "metadata": {},
            "outputs": [
                {
                    "data": {
                        "text/html": [
                            "<div>\n",
                            "<style scoped>\n",
                            "    .dataframe tbody tr th:only-of-type {\n",
                            "        vertical-align: middle;\n",
                            "    }\n",
                            "\n",
                            "    .dataframe tbody tr th {\n",
                            "        vertical-align: top;\n",
                            "    }\n",
                            "\n",
                            "    .dataframe thead th {\n",
                            "        text-align: right;\n",
                            "    }\n",
                            "</style>\n",
                            "<table border=\"1\" class=\"dataframe\">\n",
                            "  <thead>\n",
                            "    <tr style=\"text-align: right;\">\n",
                            "      <th></th>\n",
                            "      <th>movie_id</th>\n",
                            "      <th>title</th>\n",
                            "      <th>overview</th>\n",
                            "      <th>genres</th>\n",
                            "      <th>keywords</th>\n",
                            "      <th>cast</th>\n",
                            "      <th>crew</th>\n",
                            "    </tr>\n",
                            "  </thead>\n",
                            "  <tbody>\n",
                            "    <tr>\n",
                            "      <th>0</th>\n",
                            "      <td>19995</td>\n",
                            "      <td>Avatar</td>\n",
                            "      <td>[In the 22nd century, a paraplegic Marine is d...</td>\n",
                            "      <td>[Action, Adventure, Fantasy, Science Fiction]</td>\n",
                            "      <td>[culture clash, future, space war, space colon...</td>\n",
                            "      <td>[Sam Worthington, Zoe Saldana, Sigourney Weaver]</td>\n",
                            "      <td>[James Cameron]</td>\n",
                            "    </tr>\n",
                            "    <tr>\n",
                            "      <th>1</th>\n",
                            "      <td>285</td>\n",
                            "      <td>Pirates of the Caribbean: At World's End</td>\n",
                            "      <td>[Captain Barbossa, long believed to be dead, h...</td>\n",
                            "      <td>[Adventure, Fantasy, Action]</td>\n",
                            "      <td>[ocean, drug abuse, exotic island, east india ...</td>\n",
                            "      <td>[Johnny Depp, Orlando Bloom, Keira Knightley]</td>\n",
                            "      <td>[Gore Verbinski]</td>\n",
                            "    </tr>\n",
                            "    <tr>\n",
                            "      <th>2</th>\n",
                            "      <td>206647</td>\n",
                            "      <td>Spectre</td>\n",
                            "      <td>[A cryptic message from Bond’s past sends him ...</td>\n",
                            "      <td>[Action, Adventure, Crime]</td>\n",
                            "      <td>[spy, based on novel, secret agent, sequel, mi...</td>\n",
                            "      <td>[Daniel Craig, Christoph Waltz, Léa Seydoux]</td>\n",
                            "      <td>[Sam Mendes]</td>\n",
                            "    </tr>\n",
                            "    <tr>\n",
                            "      <th>3</th>\n",
                            "      <td>49026</td>\n",
                            "      <td>The Dark Knight Rises</td>\n",
                            "      <td>[Following the death of District Attorney Harv...</td>\n",
                            "      <td>[Action, Crime, Drama, Thriller]</td>\n",
                            "      <td>[dc comics, crime fighter, terrorist, secret i...</td>\n",
                            "      <td>[Christian Bale, Michael Caine, Gary Oldman]</td>\n",
                            "      <td>[Christopher Nolan]</td>\n",
                            "    </tr>\n",
                            "    <tr>\n",
                            "      <th>4</th>\n",
                            "      <td>49529</td>\n",
                            "      <td>John Carter</td>\n",
                            "      <td>[John Carter is a war-weary, former military c...</td>\n",
                            "      <td>[Action, Adventure, Science Fiction]</td>\n",
                            "      <td>[based on novel, mars, medallion, space travel...</td>\n",
                            "      <td>[Taylor Kitsch, Lynn Collins, Samantha Morton]</td>\n",
                            "      <td>[Andrew Stanton]</td>\n",
                            "    </tr>\n",
                            "  </tbody>\n",
                            "</table>\n",
                            "</div>"
                        ],
                        "text/plain": [
                            "  movie_id                                     title  \\\n",
                            "0    19995                                    Avatar   \n",
                            "1      285  Pirates of the Caribbean: At World's End   \n",
                            "2   206647                                   Spectre   \n",
                            "3    49026                     The Dark Knight Rises   \n",
                            "4    49529                               John Carter   \n",
                            "\n",
                            "                                            overview  \\\n",
                            "0  [In the 22nd century, a paraplegic Marine is d...   \n",
                            "1  [Captain Barbossa, long believed to be dead, h...   \n",
                            "2  [A cryptic message from Bond’s past sends him ...   \n",
                            "3  [Following the death of District Attorney Harv...   \n",
                            "4  [John Carter is a war-weary, former military c...   \n",
                            "\n",
                            "                                          genres  \\\n",
                            "0  [Action, Adventure, Fantasy, Science Fiction]   \n",
                            "1                   [Adventure, Fantasy, Action]   \n",
                            "2                     [Action, Adventure, Crime]   \n",
                            "3               [Action, Crime, Drama, Thriller]   \n",
                            "4           [Action, Adventure, Science Fiction]   \n",
                            "\n",
                            "                                            keywords  \\\n",
                            "0  [culture clash, future, space war, space colon...   \n",
                            "1  [ocean, drug abuse, exotic island, east india ...   \n",
                            "2  [spy, based on novel, secret agent, sequel, mi...   \n",
                            "3  [dc comics, crime fighter, terrorist, secret i...   \n",
                            "4  [based on novel, mars, medallion, space travel...   \n",
                            "\n",
                            "                                               cast                 crew  \n",
                            "0  [Sam Worthington, Zoe Saldana, Sigourney Weaver]      [James Cameron]  \n",
                            "1     [Johnny Depp, Orlando Bloom, Keira Knightley]     [Gore Verbinski]  \n",
                            "2      [Daniel Craig, Christoph Waltz, Léa Seydoux]         [Sam Mendes]  \n",
                            "3      [Christian Bale, Michael Caine, Gary Oldman]  [Christopher Nolan]  \n",
                            "4    [Taylor Kitsch, Lynn Collins, Samantha Morton]     [Andrew Stanton]  "
                        ]
                    },
                    "execution_count": 75,
                    "metadata": {},
                    "output_type": "execute_result"
                }
            ],
            "source": [
                "total_data.head(5)"
            ]
        },
        {
            "cell_type": "code",
            "execution_count": 76,
            "metadata": {},
            "outputs": [],
            "source": [
                "remove_spaces = lambda items: [item.replace(\" \", \"\") for item in items] if isinstance(items, list) else items"
            ]
        },
        {
            "cell_type": "code",
            "execution_count": 77,
            "metadata": {},
            "outputs": [],
            "source": [
                "total_data[\"genres\"] = total_data[\"genres\"].apply(remove_spaces)\n",
                "total_data[\"cast\"] = total_data[\"cast\"].apply(remove_spaces)\n",
                "total_data[\"crew\"] = total_data[\"crew\"].apply(remove_spaces)\n",
                "total_data[\"keywords\"] = total_data[\"keywords\"].apply(remove_spaces)"
            ]
        },
        {
            "cell_type": "code",
            "execution_count": 78,
            "metadata": {},
            "outputs": [],
            "source": [
                "total_data[\"tags\"] = total_data[\"overview\"] + total_data[\"genres\"] + total_data[\"keywords\"] + total_data[\"cast\"] + total_data[\"crew\"] "
            ]
        },
        {
            "cell_type": "code",
            "execution_count": 79,
            "metadata": {},
            "outputs": [],
            "source": [
                "def concatenate_list(lists):\n",
                "    cleaned_list = [x for x in lists if isinstance(x, str) and x is not None]\n",
                "    return ' '.join(cleaned_list)"
            ]
        },
        {
            "cell_type": "code",
            "execution_count": 80,
            "metadata": {},
            "outputs": [],
            "source": [
                "total_data[\"tags\"] = total_data[\"tags\"].apply(concatenate_list)"
            ]
        },
        {
            "cell_type": "code",
            "execution_count": 81,
            "metadata": {},
            "outputs": [
                {
                    "data": {
                        "text/plain": [
                            "'In the 22nd century, a paraplegic Marine is dispatched to the moon Pandora on a unique mission, but becomes torn between following orders and protecting an alien civilization. Action Adventure Fantasy ScienceFiction cultureclash future spacewar spacecolony society spacetravel futuristic romance space alien tribe alienplanet cgi marine soldier battle loveaffair antiwar powerrelations mindandsoul 3d SamWorthington ZoeSaldana SigourneyWeaver JamesCameron'"
                        ]
                    },
                    "execution_count": 81,
                    "metadata": {},
                    "output_type": "execute_result"
                }
            ],
            "source": [
                "total_data[\"tags\"][0]"
            ]
        },
        {
            "cell_type": "code",
            "execution_count": 82,
            "metadata": {},
            "outputs": [],
            "source": [
                "vectorizer = TfidfVectorizer()\n",
                "\n",
                "vectors_movies = vectorizer.fit_transform(total_data[\"tags\"])\n"
            ]
        },
        {
            "cell_type": "code",
            "execution_count": 83,
            "metadata": {},
            "outputs": [
                {
                    "data": {
                        "text/html": [
                            "<style>#sk-container-id-4 {color: black;}#sk-container-id-4 pre{padding: 0;}#sk-container-id-4 div.sk-toggleable {background-color: white;}#sk-container-id-4 label.sk-toggleable__label {cursor: pointer;display: block;width: 100%;margin-bottom: 0;padding: 0.3em;box-sizing: border-box;text-align: center;}#sk-container-id-4 label.sk-toggleable__label-arrow:before {content: \"▸\";float: left;margin-right: 0.25em;color: #696969;}#sk-container-id-4 label.sk-toggleable__label-arrow:hover:before {color: black;}#sk-container-id-4 div.sk-estimator:hover label.sk-toggleable__label-arrow:before {color: black;}#sk-container-id-4 div.sk-toggleable__content {max-height: 0;max-width: 0;overflow: hidden;text-align: left;background-color: #f0f8ff;}#sk-container-id-4 div.sk-toggleable__content pre {margin: 0.2em;color: black;border-radius: 0.25em;background-color: #f0f8ff;}#sk-container-id-4 input.sk-toggleable__control:checked~div.sk-toggleable__content {max-height: 200px;max-width: 100%;overflow: auto;}#sk-container-id-4 input.sk-toggleable__control:checked~label.sk-toggleable__label-arrow:before {content: \"▾\";}#sk-container-id-4 div.sk-estimator input.sk-toggleable__control:checked~label.sk-toggleable__label {background-color: #d4ebff;}#sk-container-id-4 div.sk-label input.sk-toggleable__control:checked~label.sk-toggleable__label {background-color: #d4ebff;}#sk-container-id-4 input.sk-hidden--visually {border: 0;clip: rect(1px 1px 1px 1px);clip: rect(1px, 1px, 1px, 1px);height: 1px;margin: -1px;overflow: hidden;padding: 0;position: absolute;width: 1px;}#sk-container-id-4 div.sk-estimator {font-family: monospace;background-color: #f0f8ff;border: 1px dotted black;border-radius: 0.25em;box-sizing: border-box;margin-bottom: 0.5em;}#sk-container-id-4 div.sk-estimator:hover {background-color: #d4ebff;}#sk-container-id-4 div.sk-parallel-item::after {content: \"\";width: 100%;border-bottom: 1px solid gray;flex-grow: 1;}#sk-container-id-4 div.sk-label:hover label.sk-toggleable__label {background-color: #d4ebff;}#sk-container-id-4 div.sk-serial::before {content: \"\";position: absolute;border-left: 1px solid gray;box-sizing: border-box;top: 0;bottom: 0;left: 50%;z-index: 0;}#sk-container-id-4 div.sk-serial {display: flex;flex-direction: column;align-items: center;background-color: white;padding-right: 0.2em;padding-left: 0.2em;position: relative;}#sk-container-id-4 div.sk-item {position: relative;z-index: 1;}#sk-container-id-4 div.sk-parallel {display: flex;align-items: stretch;justify-content: center;background-color: white;position: relative;}#sk-container-id-4 div.sk-item::before, #sk-container-id-4 div.sk-parallel-item::before {content: \"\";position: absolute;border-left: 1px solid gray;box-sizing: border-box;top: 0;bottom: 0;left: 50%;z-index: -1;}#sk-container-id-4 div.sk-parallel-item {display: flex;flex-direction: column;z-index: 1;position: relative;background-color: white;}#sk-container-id-4 div.sk-parallel-item:first-child::after {align-self: flex-end;width: 50%;}#sk-container-id-4 div.sk-parallel-item:last-child::after {align-self: flex-start;width: 50%;}#sk-container-id-4 div.sk-parallel-item:only-child::after {width: 0;}#sk-container-id-4 div.sk-dashed-wrapped {border: 1px dashed gray;margin: 0 0.4em 0.5em 0.4em;box-sizing: border-box;padding-bottom: 0.4em;background-color: white;}#sk-container-id-4 div.sk-label label {font-family: monospace;font-weight: bold;display: inline-block;line-height: 1.2em;}#sk-container-id-4 div.sk-label-container {text-align: center;}#sk-container-id-4 div.sk-container {/* jupyter's `normalize.less` sets `[hidden] { display: none; }` but bootstrap.min.css set `[hidden] { display: none !important; }` so we also need the `!important` here to be able to override the default hidden behavior on the sphinx rendered scikit-learn.org. See: https://github.com/scikit-learn/scikit-learn/issues/21755 */display: inline-block !important;position: relative;}#sk-container-id-4 div.sk-text-repr-fallback {display: none;}</style><div id=\"sk-container-id-4\" class=\"sk-top-container\"><div class=\"sk-text-repr-fallback\"><pre>NearestNeighbors(algorithm=&#x27;brute&#x27;, metric=&#x27;cosine&#x27;, n_neighbors=6)</pre><b>In a Jupyter environment, please rerun this cell to show the HTML representation or trust the notebook. <br />On GitHub, the HTML representation is unable to render, please try loading this page with nbviewer.org.</b></div><div class=\"sk-container\" hidden><div class=\"sk-item\"><div class=\"sk-estimator sk-toggleable\"><input class=\"sk-toggleable__control sk-hidden--visually\" id=\"sk-estimator-id-4\" type=\"checkbox\" checked><label for=\"sk-estimator-id-4\" class=\"sk-toggleable__label sk-toggleable__label-arrow\">NearestNeighbors</label><div class=\"sk-toggleable__content\"><pre>NearestNeighbors(algorithm=&#x27;brute&#x27;, metric=&#x27;cosine&#x27;, n_neighbors=6)</pre></div></div></div></div></div>"
                        ],
                        "text/plain": [
                            "NearestNeighbors(algorithm='brute', metric='cosine', n_neighbors=6)"
                        ]
                    },
                    "execution_count": 83,
                    "metadata": {},
                    "output_type": "execute_result"
                }
            ],
            "source": [
                "model = NearestNeighbors(n_neighbors=6, algorithm=\"brute\", metric=\"cosine\")\n",
                "model.fit(vectors_movies)"
            ]
        },
        {
            "cell_type": "code",
            "execution_count": 105,
            "metadata": {},
            "outputs": [],
            "source": [
                "def movie_recommend(movie):\n",
                "    movie_index = total_data[total_data[\"title\"] == movie].index\n",
                "    if not movie_index.empty:\n",
                "        movie_index = movie_index[0]\n",
                "        distances, indices = model.kneighbors(vectors_movies[movie_index])\n",
                "        movie_list = [(total_data[\"title\"][i], distances[0][j]) for j, i in enumerate(indices[0])]\n",
                "        return movie_list[1:]\n",
                "    else:\n",
                "        print(f\"The movie '{movie}' is not found in the dataset.\")\n",
                "        return None"
            ]
        },
        {
            "cell_type": "code",
            "execution_count": 110,
            "metadata": {},
            "outputs": [
                {
                    "name": "stdout",
                    "output_type": "stream",
                    "text": [
                        "- film: Transformers: Revenge of the Fallen\n",
                        "- film: Transformers: Age of Extinction\n",
                        "- film: Transformers: Dark of the Moon\n",
                        "- film: I Am Sam\n",
                        "- film: Brothers\n"
                    ]
                }
            ],
            "source": [
                "recommended_movies = movie_recommend(\"Interstellar\")\n",
                "\n",
                "if recommended_movies:\n",
                "    for movie, distance in recommended_movies:\n",
                "        print(f\"- film: {movie}\")"
            ]
        },
        {
            "cell_type": "code",
            "execution_count": 115,
            "metadata": {},
            "outputs": [
                {
                    "name": "stdout",
                    "output_type": "stream",
                    "text": [
                        "The movie 'The Flash' is not found in the dataset.\n"
                    ]
                }
            ],
            "source": [
                "recommended_movies = movie_recommend(\"The Flash\")\n",
                "\n",
                "if recommended_movies:\n",
                "    for movie, distance in recommended_movies:\n",
                "        print(f\"- film: {movie}\")"
            ]
        }
    ],
    "metadata": {
        "kernelspec": {
            "display_name": "Python 3.8.13 64-bit ('3.8.13')",
            "language": "python",
            "name": "python3"
        },
        "language_info": {
            "codemirror_mode": {
                "name": "ipython",
                "version": 3
            },
            "file_extension": ".py",
            "mimetype": "text/x-python",
            "name": "python",
            "nbconvert_exporter": "python",
            "pygments_lexer": "ipython3",
            "version": "3.11.4"
        },
        "orig_nbformat": 4,
        "vscode": {
            "interpreter": {
                "hash": "110cc1dee26208153f2972f08a2ad52b6a56238dc66d48e87fb757ef2996db56"
            }
        }
    },
    "nbformat": 4,
    "nbformat_minor": 2
}
